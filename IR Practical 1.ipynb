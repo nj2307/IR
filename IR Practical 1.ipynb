{
 "cells": [
  {
   "cell_type": "code",
   "execution_count": 21,
   "id": "4eb4da70",
   "metadata": {},
   "outputs": [],
   "source": [
    "import nltk\n",
    "from nltk.corpus import stopwords\n",
    "from nltk.stem import PorterStemmer\n",
    "from nltk.tokenize import word_tokenize"
   ]
  },
  {
   "cell_type": "code",
   "execution_count": 22,
   "id": "e258e1fc",
   "metadata": {},
   "outputs": [],
   "source": [
    "def remove_stop_words(text):\n",
    "    stop_words = set(stopwords.words('english'))\n",
    "    words = word_tokenize(text)\n",
    "    without_stop_words = [word for word in words if word.lower() not in stop_words]\n",
    "    removed_stop_words = [word for word in words if word.lower() in stop_words]\n",
    "    return \" \".join(without_stop_words), \" \".join(removed_stop_words)\n",
    "\n",
    "def perform_stemming(text):\n",
    "    stemmer = PorterStemmer()\n",
    "    words = word_tokenize(text)\n",
    "    stemmed_words = [stemmer.stem(word) for word in words]\n",
    "    return \" \".join(stemmed_words)"
   ]
  },
  {
   "cell_type": "code",
   "execution_count": 23,
   "id": "e7178991",
   "metadata": {},
   "outputs": [
    {
     "name": "stdout",
     "output_type": "stream",
     "text": [
      "Original text:\n",
      "\n",
      "Tulips are a genus of spring-blooming perennial herbaceous bulbiferous geophytes. \n",
      "The flowers are usually large, showy and brightly coloured, generally red, orange, pink, yellow, or white. \n",
      "They often have a different coloured blotch at the base of the tepals, internally.\n",
      "\n",
      "\n",
      "Removed stop words:\n",
      "are a of The are and or They have a at the of the\n",
      "\n",
      "Text after stop word removal:\n",
      "Tulips genus spring-blooming perennial herbaceous bulbiferous geophytes . flowers usually large , showy brightly coloured , generally red , orange , pink , yellow , white . often different coloured blotch base tepals , internally .\n",
      "\n",
      "Text after stemming:\n",
      "tulip are a genu of spring-bloom perenni herbac bulbifer geophyt . the flower are usual larg , showi and brightli colour , gener red , orang , pink , yellow , or white . they often have a differ colour blotch at the base of the tepal , intern .\n"
     ]
    }
   ],
   "source": [
    "text_document = \"\"\"\n",
    "Tulips are a genus of spring-blooming perennial herbaceous bulbiferous geophytes. \n",
    "The flowers are usually large, showy and brightly coloured, generally red, orange, pink, yellow, or white. \n",
    "They often have a different coloured blotch at the base of the tepals, internally.\n",
    "\"\"\"\n",
    "\n",
    "# Remove stop words and get the removed stop words\n",
    "text_without_stop_words, removed_stop_words = remove_stop_words(text_document)\n",
    "\n",
    "print(\"Original text:\")\n",
    "print(text_document)\n",
    "print()\n",
    "\n",
    "# Display removed stop words\n",
    "print(\"Removed stop words:\")\n",
    "print(removed_stop_words)\n",
    "print()\n",
    "\n",
    "# Remove stop words\n",
    "print(\"Text after stop word removal:\")\n",
    "print(text_without_stop_words)\n",
    "print()\n",
    "\n",
    "# Perform stemming\n",
    "text_after_stemming = perform_stemming(text_document)\n",
    "print(\"Text after stemming:\")\n",
    "print(text_after_stemming)"
   ]
  },
  {
   "cell_type": "code",
   "execution_count": null,
   "id": "009df79c",
   "metadata": {},
   "outputs": [],
   "source": []
  }
 ],
 "metadata": {
  "kernelspec": {
   "display_name": "Python 3 (ipykernel)",
   "language": "python",
   "name": "python3"
  },
  "language_info": {
   "codemirror_mode": {
    "name": "ipython",
    "version": 3
   },
   "file_extension": ".py",
   "mimetype": "text/x-python",
   "name": "python",
   "nbconvert_exporter": "python",
   "pygments_lexer": "ipython3",
   "version": "3.9.13"
  }
 },
 "nbformat": 4,
 "nbformat_minor": 5
}
